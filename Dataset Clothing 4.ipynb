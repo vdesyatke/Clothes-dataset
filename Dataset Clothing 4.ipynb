{
 "cells": [
  {
   "cell_type": "code",
   "execution_count": 1,
   "metadata": {},
   "outputs": [],
   "source": [
    "# Здесь мы берём созданный ранее датафрейм с размерами боксов (бокс это рамка, обводящая искомый предмет на картинке), и в каждой категории выбираем первые сто наиболее квадратных боксов"
   ]
  },
  {
   "cell_type": "code",
   "execution_count": 2,
   "metadata": {},
   "outputs": [],
   "source": [
    "import numpy as np\n",
    "import pandas as pd\n",
    "import json\n",
    "import glob\n",
    "import os.path\n",
    "import http.client, urllib\n",
    "from matplotlib import pyplot as plt\n",
    "import time"
   ]
  },
  {
   "cell_type": "code",
   "execution_count": 3,
   "metadata": {},
   "outputs": [
    {
     "data": {
      "text/html": [
       "<div>\n",
       "<style scoped>\n",
       "    .dataframe tbody tr th:only-of-type {\n",
       "        vertical-align: middle;\n",
       "    }\n",
       "\n",
       "    .dataframe tbody tr th {\n",
       "        vertical-align: top;\n",
       "    }\n",
       "\n",
       "    .dataframe thead th {\n",
       "        text-align: right;\n",
       "    }\n",
       "</style>\n",
       "<table border=\"1\" class=\"dataframe\">\n",
       "  <thead>\n",
       "    <tr style=\"text-align: right;\">\n",
       "      <th></th>\n",
       "      <th>File</th>\n",
       "      <th>Path</th>\n",
       "      <th>Width</th>\n",
       "      <th>Height</th>\n",
       "      <th>Category</th>\n",
       "      <th>File exists</th>\n",
       "    </tr>\n",
       "  </thead>\n",
       "  <tbody>\n",
       "    <tr>\n",
       "      <th>0</th>\n",
       "      <td>1.jpg</td>\n",
       "      <td>dataset/abrigos/1.jpg</td>\n",
       "      <td>762.420699</td>\n",
       "      <td>499.02616</td>\n",
       "      <td>trousers</td>\n",
       "      <td>True</td>\n",
       "    </tr>\n",
       "  </tbody>\n",
       "</table>\n",
       "</div>"
      ],
      "text/plain": [
       "    File                   Path       Width     Height  Category  File exists\n",
       "0  1.jpg  dataset/abrigos/1.jpg  762.420699  499.02616  trousers         True"
      ]
     },
     "execution_count": 3,
     "metadata": {},
     "output_type": "execute_result"
    }
   ],
   "source": [
    "# box_sizes = pd.read_csv('C:/Nikita/Dataset Clothing/box_sizes.csv', header = 0)\n",
    "# box_sizes = box_sizes.drop(['Unnamed: 0', 'Unnamed: 0.1'], axis = 1)\n",
    "box_sizes2 = pd.read_csv('box_sizes.csv', header = 0, index_col = 0)\n",
    "box_sizes2.head(1)"
   ]
  },
  {
   "cell_type": "code",
   "execution_count": 4,
   "metadata": {},
   "outputs": [
    {
     "ename": "NameError",
     "evalue": "name 'box_sizes' is not defined",
     "output_type": "error",
     "traceback": [
      "\u001b[1;31m---------------------------------------------------------------------------\u001b[0m",
      "\u001b[1;31mNameError\u001b[0m                                 Traceback (most recent call last)",
      "\u001b[1;32m<ipython-input-4-a29f3bfb3c67>\u001b[0m in \u001b[0;36m<module>\u001b[1;34m\u001b[0m\n\u001b[1;32m----> 1\u001b[1;33m \u001b[0mbox_sizes\u001b[0m\u001b[1;33m.\u001b[0m\u001b[0mto_csv\u001b[0m\u001b[1;33m(\u001b[0m\u001b[1;34m'box_sizes.csv'\u001b[0m\u001b[1;33m,\u001b[0m \u001b[0mheader\u001b[0m \u001b[1;33m=\u001b[0m \u001b[1;32mTrue\u001b[0m\u001b[1;33m,\u001b[0m \u001b[0mindex\u001b[0m \u001b[1;33m=\u001b[0m \u001b[1;32mTrue\u001b[0m\u001b[1;33m)\u001b[0m\u001b[1;33m\u001b[0m\u001b[1;33m\u001b[0m\u001b[0m\n\u001b[0m",
      "\u001b[1;31mNameError\u001b[0m: name 'box_sizes' is not defined"
     ]
    }
   ],
   "source": [
    "box_sizes.to_csv('box_sizes.csv', header = True, index = True)"
   ]
  },
  {
   "cell_type": "code",
   "execution_count": 5,
   "metadata": {},
   "outputs": [
    {
     "data": {
      "text/html": [
       "<div>\n",
       "<style scoped>\n",
       "    .dataframe tbody tr th:only-of-type {\n",
       "        vertical-align: middle;\n",
       "    }\n",
       "\n",
       "    .dataframe tbody tr th {\n",
       "        vertical-align: top;\n",
       "    }\n",
       "\n",
       "    .dataframe thead th {\n",
       "        text-align: right;\n",
       "    }\n",
       "</style>\n",
       "<table border=\"1\" class=\"dataframe\">\n",
       "  <thead>\n",
       "    <tr style=\"text-align: right;\">\n",
       "      <th></th>\n",
       "      <th>File</th>\n",
       "      <th>Path</th>\n",
       "      <th>Width</th>\n",
       "      <th>Height</th>\n",
       "      <th>Category</th>\n",
       "      <th>File exists</th>\n",
       "    </tr>\n",
       "  </thead>\n",
       "  <tbody>\n",
       "    <tr>\n",
       "      <th>0</th>\n",
       "      <td>1.jpg</td>\n",
       "      <td>dataset/abrigos/1.jpg</td>\n",
       "      <td>762.420699</td>\n",
       "      <td>499.02616</td>\n",
       "      <td>trousers</td>\n",
       "      <td>True</td>\n",
       "    </tr>\n",
       "  </tbody>\n",
       "</table>\n",
       "</div>"
      ],
      "text/plain": [
       "    File                   Path       Width     Height  Category  File exists\n",
       "0  1.jpg  dataset/abrigos/1.jpg  762.420699  499.02616  trousers         True"
      ]
     },
     "execution_count": 5,
     "metadata": {},
     "output_type": "execute_result"
    }
   ],
   "source": [
    "box_sizes = pd.read_csv('box_sizes.csv', header = 0, index_col = 0)\n",
    "box_sizes.head(1)"
   ]
  },
  {
   "cell_type": "code",
   "execution_count": 25,
   "metadata": {},
   "outputs": [],
   "source": [
    "box_sizes['WH_diff'] = abs(box_sizes['Width'] - box_sizes['Height'])"
   ]
  },
  {
   "cell_type": "code",
   "execution_count": 28,
   "metadata": {},
   "outputs": [
    {
     "data": {
      "text/html": [
       "<div>\n",
       "<style scoped>\n",
       "    .dataframe tbody tr th:only-of-type {\n",
       "        vertical-align: middle;\n",
       "    }\n",
       "\n",
       "    .dataframe tbody tr th {\n",
       "        vertical-align: top;\n",
       "    }\n",
       "\n",
       "    .dataframe thead th {\n",
       "        text-align: right;\n",
       "    }\n",
       "</style>\n",
       "<table border=\"1\" class=\"dataframe\">\n",
       "  <thead>\n",
       "    <tr style=\"text-align: right;\">\n",
       "      <th></th>\n",
       "      <th>File</th>\n",
       "      <th>Path</th>\n",
       "      <th>Width</th>\n",
       "      <th>Height</th>\n",
       "      <th>Category</th>\n",
       "      <th>File exists</th>\n",
       "      <th>WH_diff</th>\n",
       "    </tr>\n",
       "  </thead>\n",
       "  <tbody>\n",
       "    <tr>\n",
       "      <th>0</th>\n",
       "      <td>1.jpg</td>\n",
       "      <td>dataset/abrigos/1.jpg</td>\n",
       "      <td>762.420699</td>\n",
       "      <td>499.02616</td>\n",
       "      <td>trousers</td>\n",
       "      <td>True</td>\n",
       "      <td>263.394539</td>\n",
       "    </tr>\n",
       "  </tbody>\n",
       "</table>\n",
       "</div>"
      ],
      "text/plain": [
       "    File                   Path       Width     Height  Category  File exists  \\\n",
       "0  1.jpg  dataset/abrigos/1.jpg  762.420699  499.02616  trousers         True   \n",
       "\n",
       "      WH_diff  \n",
       "0  263.394539  "
      ]
     },
     "execution_count": 28,
     "metadata": {},
     "output_type": "execute_result"
    }
   ],
   "source": [
    "box_sizes.drop('WH_ratio', axis = 1, inplace = True)\n",
    "box_sizes.head(1)"
   ]
  },
  {
   "cell_type": "code",
   "execution_count": 57,
   "metadata": {},
   "outputs": [
    {
     "data": {
      "text/html": [
       "<div>\n",
       "<style scoped>\n",
       "    .dataframe tbody tr th:only-of-type {\n",
       "        vertical-align: middle;\n",
       "    }\n",
       "\n",
       "    .dataframe tbody tr th {\n",
       "        vertical-align: top;\n",
       "    }\n",
       "\n",
       "    .dataframe thead th {\n",
       "        text-align: right;\n",
       "    }\n",
       "</style>\n",
       "<table border=\"1\" class=\"dataframe\">\n",
       "  <thead>\n",
       "    <tr style=\"text-align: right;\">\n",
       "      <th></th>\n",
       "      <th>File</th>\n",
       "      <th>Path</th>\n",
       "      <th>Width</th>\n",
       "      <th>Height</th>\n",
       "      <th>Category</th>\n",
       "      <th>File exists</th>\n",
       "      <th>WH_diff</th>\n",
       "    </tr>\n",
       "  </thead>\n",
       "  <tbody>\n",
       "  </tbody>\n",
       "</table>\n",
       "</div>"
      ],
      "text/plain": [
       "Empty DataFrame\n",
       "Columns: [File, Path, Width, Height, Category, File exists, WH_diff]\n",
       "Index: []"
      ]
     },
     "execution_count": 57,
     "metadata": {},
     "output_type": "execute_result"
    }
   ],
   "source": [
    "# box_sizes_100 = pd.DataFrame(columns = box_sizes.columns[:-1])\n",
    "box_sizes_100 = pd.DataFrame(columns = box_sizes.columns)\n",
    "box_sizes_100.head()"
   ]
  },
  {
   "cell_type": "code",
   "execution_count": 29,
   "metadata": {},
   "outputs": [
    {
     "data": {
      "text/html": [
       "<div>\n",
       "<style scoped>\n",
       "    .dataframe tbody tr th:only-of-type {\n",
       "        vertical-align: middle;\n",
       "    }\n",
       "\n",
       "    .dataframe tbody tr th {\n",
       "        vertical-align: top;\n",
       "    }\n",
       "\n",
       "    .dataframe thead th {\n",
       "        text-align: right;\n",
       "    }\n",
       "</style>\n",
       "<table border=\"1\" class=\"dataframe\">\n",
       "  <thead>\n",
       "    <tr style=\"text-align: right;\">\n",
       "      <th></th>\n",
       "      <th>File</th>\n",
       "      <th>Path</th>\n",
       "      <th>Width</th>\n",
       "      <th>Height</th>\n",
       "      <th>Category</th>\n",
       "      <th>File exists</th>\n",
       "      <th>WH_diff</th>\n",
       "    </tr>\n",
       "  </thead>\n",
       "  <tbody>\n",
       "    <tr>\n",
       "      <th>0</th>\n",
       "      <td>1.jpg</td>\n",
       "      <td>dataset/abrigos/1.jpg</td>\n",
       "      <td>762.420699</td>\n",
       "      <td>499.02616</td>\n",
       "      <td>trousers</td>\n",
       "      <td>True</td>\n",
       "      <td>263.394539</td>\n",
       "    </tr>\n",
       "  </tbody>\n",
       "</table>\n",
       "</div>"
      ],
      "text/plain": [
       "    File                   Path       Width     Height  Category  File exists  \\\n",
       "0  1.jpg  dataset/abrigos/1.jpg  762.420699  499.02616  trousers         True   \n",
       "\n",
       "      WH_diff  \n",
       "0  263.394539  "
      ]
     },
     "execution_count": 29,
     "metadata": {},
     "output_type": "execute_result"
    }
   ],
   "source": [
    "box_sizes.head(1)"
   ]
  },
  {
   "cell_type": "code",
   "execution_count": 36,
   "metadata": {},
   "outputs": [
    {
     "data": {
      "text/html": [
       "<div>\n",
       "<style scoped>\n",
       "    .dataframe tbody tr th:only-of-type {\n",
       "        vertical-align: middle;\n",
       "    }\n",
       "\n",
       "    .dataframe tbody tr th {\n",
       "        vertical-align: top;\n",
       "    }\n",
       "\n",
       "    .dataframe thead th {\n",
       "        text-align: right;\n",
       "    }\n",
       "</style>\n",
       "<table border=\"1\" class=\"dataframe\">\n",
       "  <thead>\n",
       "    <tr style=\"text-align: right;\">\n",
       "      <th></th>\n",
       "      <th>File</th>\n",
       "      <th>Path</th>\n",
       "      <th>Width</th>\n",
       "      <th>Height</th>\n",
       "      <th>Category</th>\n",
       "      <th>File exists</th>\n",
       "      <th>WH_diff</th>\n",
       "    </tr>\n",
       "  </thead>\n",
       "  <tbody>\n",
       "    <tr>\n",
       "      <th>0</th>\n",
       "      <td>1957.jpg</td>\n",
       "      <td>dataset/camisas-y-blusas/1957.jpg</td>\n",
       "      <td>728.584410</td>\n",
       "      <td>728.583053</td>\n",
       "      <td>trousers</td>\n",
       "      <td>True</td>\n",
       "      <td>0.001357</td>\n",
       "    </tr>\n",
       "    <tr>\n",
       "      <th>1</th>\n",
       "      <td>4514.jpg</td>\n",
       "      <td>dataset/abrigos/4514.jpg</td>\n",
       "      <td>272.298638</td>\n",
       "      <td>272.295697</td>\n",
       "      <td>trousers</td>\n",
       "      <td>True</td>\n",
       "      <td>0.002941</td>\n",
       "    </tr>\n",
       "    <tr>\n",
       "      <th>2</th>\n",
       "      <td>1700.jpg</td>\n",
       "      <td>dataset/abrigos/1700.jpg</td>\n",
       "      <td>272.298638</td>\n",
       "      <td>272.295697</td>\n",
       "      <td>trousers</td>\n",
       "      <td>True</td>\n",
       "      <td>0.002941</td>\n",
       "    </tr>\n",
       "    <tr>\n",
       "      <th>3</th>\n",
       "      <td>374.jpg</td>\n",
       "      <td>dataset/zapatos/374.jpg</td>\n",
       "      <td>601.551297</td>\n",
       "      <td>601.558796</td>\n",
       "      <td>trousers</td>\n",
       "      <td>True</td>\n",
       "      <td>0.007499</td>\n",
       "    </tr>\n",
       "    <tr>\n",
       "      <th>4</th>\n",
       "      <td>430.jpg</td>\n",
       "      <td>dataset/sandalias/430.jpg</td>\n",
       "      <td>432.984265</td>\n",
       "      <td>433.030140</td>\n",
       "      <td>trousers</td>\n",
       "      <td>True</td>\n",
       "      <td>0.045875</td>\n",
       "    </tr>\n",
       "    <tr>\n",
       "      <th>...</th>\n",
       "      <td>...</td>\n",
       "      <td>...</td>\n",
       "      <td>...</td>\n",
       "      <td>...</td>\n",
       "      <td>...</td>\n",
       "      <td>...</td>\n",
       "      <td>...</td>\n",
       "    </tr>\n",
       "    <tr>\n",
       "      <th>95</th>\n",
       "      <td>1990.jpg</td>\n",
       "      <td>dataset/zapatillas/1990.jpg</td>\n",
       "      <td>598.183234</td>\n",
       "      <td>596.512056</td>\n",
       "      <td>trousers</td>\n",
       "      <td>True</td>\n",
       "      <td>1.671178</td>\n",
       "    </tr>\n",
       "    <tr>\n",
       "      <th>96</th>\n",
       "      <td>140.jpg</td>\n",
       "      <td>dataset/cardigans/140.jpg</td>\n",
       "      <td>456.042099</td>\n",
       "      <td>457.754481</td>\n",
       "      <td>trousers</td>\n",
       "      <td>True</td>\n",
       "      <td>1.712381</td>\n",
       "    </tr>\n",
       "    <tr>\n",
       "      <th>97</th>\n",
       "      <td>953.jpg</td>\n",
       "      <td>dataset/trajes/953.jpg</td>\n",
       "      <td>326.294467</td>\n",
       "      <td>328.016557</td>\n",
       "      <td>trousers</td>\n",
       "      <td>True</td>\n",
       "      <td>1.722090</td>\n",
       "    </tr>\n",
       "    <tr>\n",
       "      <th>98</th>\n",
       "      <td>2336.jpg</td>\n",
       "      <td>dataset/jerseys/2336.jpg</td>\n",
       "      <td>378.694238</td>\n",
       "      <td>380.431740</td>\n",
       "      <td>trousers</td>\n",
       "      <td>True</td>\n",
       "      <td>1.737502</td>\n",
       "    </tr>\n",
       "    <tr>\n",
       "      <th>99</th>\n",
       "      <td>2115.jpg</td>\n",
       "      <td>dataset/zapatillas/2115.jpg</td>\n",
       "      <td>671.199237</td>\n",
       "      <td>669.405606</td>\n",
       "      <td>trousers</td>\n",
       "      <td>True</td>\n",
       "      <td>1.793631</td>\n",
       "    </tr>\n",
       "  </tbody>\n",
       "</table>\n",
       "<p>100 rows × 7 columns</p>\n",
       "</div>"
      ],
      "text/plain": [
       "        File                               Path       Width      Height  \\\n",
       "0   1957.jpg  dataset/camisas-y-blusas/1957.jpg  728.584410  728.583053   \n",
       "1   4514.jpg           dataset/abrigos/4514.jpg  272.298638  272.295697   \n",
       "2   1700.jpg           dataset/abrigos/1700.jpg  272.298638  272.295697   \n",
       "3    374.jpg            dataset/zapatos/374.jpg  601.551297  601.558796   \n",
       "4    430.jpg          dataset/sandalias/430.jpg  432.984265  433.030140   \n",
       "..       ...                                ...         ...         ...   \n",
       "95  1990.jpg        dataset/zapatillas/1990.jpg  598.183234  596.512056   \n",
       "96   140.jpg          dataset/cardigans/140.jpg  456.042099  457.754481   \n",
       "97   953.jpg             dataset/trajes/953.jpg  326.294467  328.016557   \n",
       "98  2336.jpg           dataset/jerseys/2336.jpg  378.694238  380.431740   \n",
       "99  2115.jpg        dataset/zapatillas/2115.jpg  671.199237  669.405606   \n",
       "\n",
       "    Category File exists   WH_diff  \n",
       "0   trousers        True  0.001357  \n",
       "1   trousers        True  0.002941  \n",
       "2   trousers        True  0.002941  \n",
       "3   trousers        True  0.007499  \n",
       "4   trousers        True  0.045875  \n",
       "..       ...         ...       ...  \n",
       "95  trousers        True  1.671178  \n",
       "96  trousers        True  1.712381  \n",
       "97  trousers        True  1.722090  \n",
       "98  trousers        True  1.737502  \n",
       "99  trousers        True  1.793631  \n",
       "\n",
       "[100 rows x 7 columns]"
      ]
     },
     "execution_count": 36,
     "metadata": {},
     "output_type": "execute_result"
    }
   ],
   "source": [
    "# category = 'trousers'\n",
    "# # box_sizes_100[category] = box_sizes[box_sizes['Category'] == category].sort_values(by = 'WH_diff')[:100]\n",
    "# box_sizes_100 = pd.concat([box_sizes_100, box_sizes[box_sizes['Category'] == category].sort_values(by = 'WH_diff')[:100]], ignore_index=True)\n",
    "# box_sizes_100"
   ]
  },
  {
   "cell_type": "code",
   "execution_count": 58,
   "metadata": {},
   "outputs": [
    {
     "data": {
      "text/html": [
       "<div>\n",
       "<style scoped>\n",
       "    .dataframe tbody tr th:only-of-type {\n",
       "        vertical-align: middle;\n",
       "    }\n",
       "\n",
       "    .dataframe tbody tr th {\n",
       "        vertical-align: top;\n",
       "    }\n",
       "\n",
       "    .dataframe thead th {\n",
       "        text-align: right;\n",
       "    }\n",
       "</style>\n",
       "<table border=\"1\" class=\"dataframe\">\n",
       "  <thead>\n",
       "    <tr style=\"text-align: right;\">\n",
       "      <th></th>\n",
       "      <th>File</th>\n",
       "      <th>Path</th>\n",
       "      <th>Width</th>\n",
       "      <th>Height</th>\n",
       "      <th>Category</th>\n",
       "      <th>File exists</th>\n",
       "      <th>WH_diff</th>\n",
       "    </tr>\n",
       "  </thead>\n",
       "  <tbody>\n",
       "    <tr>\n",
       "      <th>0</th>\n",
       "      <td>1957.jpg</td>\n",
       "      <td>dataset/camisas-y-blusas/1957.jpg</td>\n",
       "      <td>728.584410</td>\n",
       "      <td>728.583053</td>\n",
       "      <td>trousers</td>\n",
       "      <td>True</td>\n",
       "      <td>0.001357</td>\n",
       "    </tr>\n",
       "    <tr>\n",
       "      <th>1</th>\n",
       "      <td>4514.jpg</td>\n",
       "      <td>dataset/abrigos/4514.jpg</td>\n",
       "      <td>272.298638</td>\n",
       "      <td>272.295697</td>\n",
       "      <td>trousers</td>\n",
       "      <td>True</td>\n",
       "      <td>0.002941</td>\n",
       "    </tr>\n",
       "    <tr>\n",
       "      <th>2</th>\n",
       "      <td>1700.jpg</td>\n",
       "      <td>dataset/abrigos/1700.jpg</td>\n",
       "      <td>272.298638</td>\n",
       "      <td>272.295697</td>\n",
       "      <td>trousers</td>\n",
       "      <td>True</td>\n",
       "      <td>0.002941</td>\n",
       "    </tr>\n",
       "  </tbody>\n",
       "</table>\n",
       "</div>"
      ],
      "text/plain": [
       "       File                               Path       Width      Height  \\\n",
       "0  1957.jpg  dataset/camisas-y-blusas/1957.jpg  728.584410  728.583053   \n",
       "1  4514.jpg           dataset/abrigos/4514.jpg  272.298638  272.295697   \n",
       "2  1700.jpg           dataset/abrigos/1700.jpg  272.298638  272.295697   \n",
       "\n",
       "   Category File exists   WH_diff  \n",
       "0  trousers        True  0.001357  \n",
       "1  trousers        True  0.002941  \n",
       "2  trousers        True  0.002941  "
      ]
     },
     "execution_count": 58,
     "metadata": {},
     "output_type": "execute_result"
    }
   ],
   "source": [
    "categories = box_sizes['Category'].unique()\n",
    "for category in categories:\n",
    "    box_sizes_100 = pd.concat([box_sizes_100, box_sizes[box_sizes['Category'] == category].sort_values(by = 'WH_diff')[:100]], ignore_index=True)\n",
    "box_sizes_100.head(3)"
   ]
  },
  {
   "cell_type": "code",
   "execution_count": 59,
   "metadata": {},
   "outputs": [
    {
     "data": {
      "text/plain": [
       "35"
      ]
     },
     "execution_count": 59,
     "metadata": {},
     "output_type": "execute_result"
    }
   ],
   "source": [
    "len(box_sizes_100.Category.unique())"
   ]
  },
  {
   "cell_type": "code",
   "execution_count": 60,
   "metadata": {},
   "outputs": [
    {
     "data": {
      "text/plain": [
       "5"
      ]
     },
     "execution_count": 60,
     "metadata": {},
     "output_type": "execute_result"
    }
   ],
   "source": [
    "less_than_100_categories = {}\n",
    "for category in categories:\n",
    "    category_len = box_sizes_100[box_sizes_100['Category'] == category].shape[0]\n",
    "    if category_len < 100:\n",
    "        less_than_100_categories[category] = category_len\n",
    "len(less_than_100_categories.keys())"
   ]
  },
  {
   "cell_type": "code",
   "execution_count": 61,
   "metadata": {},
   "outputs": [],
   "source": [
    "categories_100 = {}\n",
    "categories_lengths = {}\n",
    "for category in categories:\n",
    "    category_len = box_sizes_100[box_sizes_100['Category'] == category].shape[0]\n",
    "    categories_lengths[category] = category_len\n",
    "    if category_len == 100:\n",
    "        categories_100[category] = category_len"
   ]
  },
  {
   "cell_type": "code",
   "execution_count": 66,
   "metadata": {},
   "outputs": [],
   "source": [
    "box_sizes_100.to_csv('box_sizes_limited_by_100.csv', header = True, index = True) # В этом датасете все классы, в том числе те, в которых меньше 100 объектов"
   ]
  },
  {
   "cell_type": "code",
   "execution_count": 84,
   "metadata": {},
   "outputs": [],
   "source": [
    "box_sizes_100 = box_sizes_100[~box_sizes_100.Category.isin(less_than_100_categories.keys())].reset_index() # В этом датасете все классы, в которых было не менее 100 объектов, и мы остаавили только 100 объектов с наиболее квадратными боксами\n",
    "box_sizes_100.to_csv('box_sizes_100.csv', header = True, index = True)"
   ]
  }
 ],
 "metadata": {
  "kernelspec": {
   "display_name": "Python 3",
   "language": "python",
   "name": "python3"
  },
  "language_info": {
   "codemirror_mode": {
    "name": "ipython",
    "version": 3
   },
   "file_extension": ".py",
   "mimetype": "text/x-python",
   "name": "python",
   "nbconvert_exporter": "python",
   "pygments_lexer": "ipython3",
   "version": "3.8.3"
  }
 },
 "nbformat": 4,
 "nbformat_minor": 4
}
