{
 "cells": [
  {
   "cell_type": "code",
   "execution_count": null,
   "metadata": {},
   "outputs": [],
   "source": [
    "# Здесь мы берём созданный ранее датафрейм, в который собраны по 100 наиболее квадратных боксов каждого класса, и собираем картинки, их представляющие, в отдельный датасет"
   ]
  },
  {
   "cell_type": "code",
   "execution_count": 35,
   "metadata": {},
   "outputs": [],
   "source": [
    "import numpy as np\n",
    "import pandas as pd\n",
    "import json\n",
    "import glob\n",
    "import os.path\n",
    "import http.client, urllib\n",
    "from matplotlib import pyplot as plt\n",
    "import time\n",
    "from shutil import copyfile"
   ]
  },
  {
   "cell_type": "code",
   "execution_count": 21,
   "metadata": {},
   "outputs": [],
   "source": [
    "box_sizes_100 = pd.read_csv('box_sizes_100.csv', header = 0, index_col = 0)"
   ]
  },
  {
   "cell_type": "code",
   "execution_count": 60,
   "metadata": {},
   "outputs": [
    {
     "data": {
      "text/plain": [
       "'dataset/banadores/'"
      ]
     },
     "execution_count": 60,
     "metadata": {},
     "output_type": "execute_result"
    }
   ],
   "source": [
    "box_sizes_100.reset_index(inplace = True)"
   ]
  },
  {
   "cell_type": "code",
   "execution_count": 62,
   "metadata": {},
   "outputs": [
    {
     "data": {
      "text/html": [
       "<div>\n",
       "<style scoped>\n",
       "    .dataframe tbody tr th:only-of-type {\n",
       "        vertical-align: middle;\n",
       "    }\n",
       "\n",
       "    .dataframe tbody tr th {\n",
       "        vertical-align: top;\n",
       "    }\n",
       "\n",
       "    .dataframe thead th {\n",
       "        text-align: right;\n",
       "    }\n",
       "</style>\n",
       "<table border=\"1\" class=\"dataframe\">\n",
       "  <thead>\n",
       "    <tr style=\"text-align: right;\">\n",
       "      <th></th>\n",
       "      <th>index</th>\n",
       "      <th>File</th>\n",
       "      <th>Path</th>\n",
       "      <th>Width</th>\n",
       "      <th>Height</th>\n",
       "      <th>Category</th>\n",
       "      <th>File exists</th>\n",
       "      <th>WH_diff</th>\n",
       "    </tr>\n",
       "  </thead>\n",
       "  <tbody>\n",
       "    <tr>\n",
       "      <th>0</th>\n",
       "      <td>0</td>\n",
       "      <td>1957.jpg</td>\n",
       "      <td>dataset/camisas-y-blusas/1957.jpg</td>\n",
       "      <td>728.584410</td>\n",
       "      <td>728.583053</td>\n",
       "      <td>trousers</td>\n",
       "      <td>True</td>\n",
       "      <td>0.001357</td>\n",
       "    </tr>\n",
       "    <tr>\n",
       "      <th>1</th>\n",
       "      <td>1</td>\n",
       "      <td>4514.jpg</td>\n",
       "      <td>dataset/abrigos/4514.jpg</td>\n",
       "      <td>272.298638</td>\n",
       "      <td>272.295697</td>\n",
       "      <td>trousers</td>\n",
       "      <td>True</td>\n",
       "      <td>0.002941</td>\n",
       "    </tr>\n",
       "    <tr>\n",
       "      <th>2</th>\n",
       "      <td>2</td>\n",
       "      <td>1700.jpg</td>\n",
       "      <td>dataset/abrigos/1700.jpg</td>\n",
       "      <td>272.298638</td>\n",
       "      <td>272.295697</td>\n",
       "      <td>trousers</td>\n",
       "      <td>True</td>\n",
       "      <td>0.002941</td>\n",
       "    </tr>\n",
       "    <tr>\n",
       "      <th>3</th>\n",
       "      <td>3</td>\n",
       "      <td>374.jpg</td>\n",
       "      <td>dataset/zapatos/374.jpg</td>\n",
       "      <td>601.551297</td>\n",
       "      <td>601.558796</td>\n",
       "      <td>trousers</td>\n",
       "      <td>True</td>\n",
       "      <td>0.007499</td>\n",
       "    </tr>\n",
       "    <tr>\n",
       "      <th>4</th>\n",
       "      <td>4</td>\n",
       "      <td>430.jpg</td>\n",
       "      <td>dataset/sandalias/430.jpg</td>\n",
       "      <td>432.984265</td>\n",
       "      <td>433.030140</td>\n",
       "      <td>trousers</td>\n",
       "      <td>True</td>\n",
       "      <td>0.045875</td>\n",
       "    </tr>\n",
       "    <tr>\n",
       "      <th>...</th>\n",
       "      <td>...</td>\n",
       "      <td>...</td>\n",
       "      <td>...</td>\n",
       "      <td>...</td>\n",
       "      <td>...</td>\n",
       "      <td>...</td>\n",
       "      <td>...</td>\n",
       "      <td>...</td>\n",
       "    </tr>\n",
       "    <tr>\n",
       "      <th>2995</th>\n",
       "      <td>3074</td>\n",
       "      <td>2616.jpg</td>\n",
       "      <td>dataset/shorts/2616.jpg</td>\n",
       "      <td>560.010721</td>\n",
       "      <td>699.990188</td>\n",
       "      <td>jumpsuits</td>\n",
       "      <td>True</td>\n",
       "      <td>139.979467</td>\n",
       "    </tr>\n",
       "    <tr>\n",
       "      <th>2996</th>\n",
       "      <td>3075</td>\n",
       "      <td>487.jpg</td>\n",
       "      <td>dataset/monos/487.jpg</td>\n",
       "      <td>560.010721</td>\n",
       "      <td>699.990188</td>\n",
       "      <td>jumpsuits</td>\n",
       "      <td>True</td>\n",
       "      <td>139.979467</td>\n",
       "    </tr>\n",
       "    <tr>\n",
       "      <th>2997</th>\n",
       "      <td>3076</td>\n",
       "      <td>381.jpg</td>\n",
       "      <td>dataset/monos/381.jpg</td>\n",
       "      <td>553.883328</td>\n",
       "      <td>694.040844</td>\n",
       "      <td>jumpsuits</td>\n",
       "      <td>True</td>\n",
       "      <td>140.157517</td>\n",
       "    </tr>\n",
       "    <tr>\n",
       "      <th>2998</th>\n",
       "      <td>3077</td>\n",
       "      <td>2347.jpg</td>\n",
       "      <td>dataset/shorts/2347.jpg</td>\n",
       "      <td>553.883328</td>\n",
       "      <td>694.040844</td>\n",
       "      <td>jumpsuits</td>\n",
       "      <td>True</td>\n",
       "      <td>140.157517</td>\n",
       "    </tr>\n",
       "    <tr>\n",
       "      <th>2999</th>\n",
       "      <td>3078</td>\n",
       "      <td>310.jpg</td>\n",
       "      <td>dataset/monos/310.jpg</td>\n",
       "      <td>313.130016</td>\n",
       "      <td>453.558564</td>\n",
       "      <td>jumpsuits</td>\n",
       "      <td>True</td>\n",
       "      <td>140.428548</td>\n",
       "    </tr>\n",
       "  </tbody>\n",
       "</table>\n",
       "<p>3000 rows × 8 columns</p>\n",
       "</div>"
      ],
      "text/plain": [
       "      index      File                               Path       Width  \\\n",
       "0         0  1957.jpg  dataset/camisas-y-blusas/1957.jpg  728.584410   \n",
       "1         1  4514.jpg           dataset/abrigos/4514.jpg  272.298638   \n",
       "2         2  1700.jpg           dataset/abrigos/1700.jpg  272.298638   \n",
       "3         3   374.jpg            dataset/zapatos/374.jpg  601.551297   \n",
       "4         4   430.jpg          dataset/sandalias/430.jpg  432.984265   \n",
       "...     ...       ...                                ...         ...   \n",
       "2995   3074  2616.jpg            dataset/shorts/2616.jpg  560.010721   \n",
       "2996   3075   487.jpg              dataset/monos/487.jpg  560.010721   \n",
       "2997   3076   381.jpg              dataset/monos/381.jpg  553.883328   \n",
       "2998   3077  2347.jpg            dataset/shorts/2347.jpg  553.883328   \n",
       "2999   3078   310.jpg              dataset/monos/310.jpg  313.130016   \n",
       "\n",
       "          Height   Category  File exists     WH_diff  \n",
       "0     728.583053   trousers         True    0.001357  \n",
       "1     272.295697   trousers         True    0.002941  \n",
       "2     272.295697   trousers         True    0.002941  \n",
       "3     601.558796   trousers         True    0.007499  \n",
       "4     433.030140   trousers         True    0.045875  \n",
       "...          ...        ...          ...         ...  \n",
       "2995  699.990188  jumpsuits         True  139.979467  \n",
       "2996  699.990188  jumpsuits         True  139.979467  \n",
       "2997  694.040844  jumpsuits         True  140.157517  \n",
       "2998  694.040844  jumpsuits         True  140.157517  \n",
       "2999  453.558564  jumpsuits         True  140.428548  \n",
       "\n",
       "[3000 rows x 8 columns]"
      ]
     },
     "execution_count": 62,
     "metadata": {},
     "output_type": "execute_result"
    }
   ],
   "source": [
    "box_sizes_100"
   ]
  },
  {
   "cell_type": "code",
   "execution_count": 26,
   "metadata": {},
   "outputs": [],
   "source": [
    "def safe_mkdir(folder):\n",
    "    assert not os.path.exists(folder)\n",
    "    try:\n",
    "        os.mkdir(folder)\n",
    "    except OSError:\n",
    "        print (\"Создать директорию %s не удалось\" % folder)"
   ]
  },
  {
   "cell_type": "code",
   "execution_count": 36,
   "metadata": {},
   "outputs": [],
   "source": [
    "folder = 'C:/Users/administrator/Documents/GitHub/Clothes-dataset/'\n",
    "if not os.path.exists(folder + 'dataset'):\n",
    "    safe_mkdir(folder + 'dataset')\n",
    "if not os.path.exists(folder + 'annotations'):\n",
    "    safe_mkdir(folder + 'annotations')"
   ]
  },
  {
   "cell_type": "code",
   "execution_count": 33,
   "metadata": {},
   "outputs": [
    {
     "data": {
      "text/plain": [
       "'C:\\\\Users\\\\administrator\\\\Documents\\\\GitHub\\\\Clothes-dataset'"
      ]
     },
     "execution_count": 33,
     "metadata": {},
     "output_type": "execute_result"
    }
   ],
   "source": [
    "os.getcwd()"
   ]
  },
  {
   "cell_type": "code",
   "execution_count": 65,
   "metadata": {},
   "outputs": [],
   "source": [
    "img_source_folder = 'C:/Nikita/Dataset Clothing/'\n",
    "json_source_folder = 'C:/Nikita/Dataset Clothing/annotations/'\n",
    "img_dst_folder = 'C:/Users/administrator/Documents/GitHub/Clothes-dataset/'\n",
    "\n",
    "for i in range(len(box_sizes_100)):\n",
    "    class_folder = img_dst_folder + box_sizes_100.Path[i][:-len(box_sizes_100.File[i])]\n",
    "    # print(class_folder)\n",
    "    if not os.path.exists(class_folder):\n",
    "        safe_mkdir(class_folder)\n",
    "    \n",
    "    src = img_source_folder + box_sizes_100.Path[i]\n",
    "    if not os.path.exists(src):\n",
    "        print(src, 'does not exist')\n",
    "    dst = img_dst_folder + box_sizes_100.Path[i]\n",
    "    if not os.path.exists(dst):\n",
    "        copyfile(src, dst)\n",
    "        \n",
    "    json_filename = box_sizes_100.Path[i].replace('/', '_')[:-4] + '.json'\n",
    "    src = json_source_folder + json_filename\n",
    "    if not os.path.exists(src):\n",
    "        print(src, 'does not exist')\n",
    "    dst = img_dst_folder + 'annotations/' + json_filename\n",
    "    if not os.path.exists(dst):\n",
    "        copyfile(src, dst)"
   ]
  },
  {
   "cell_type": "code",
   "execution_count": null,
   "metadata": {},
   "outputs": [],
   "source": []
  },
  {
   "cell_type": "code",
   "execution_count": 67,
   "metadata": {},
   "outputs": [
    {
     "data": {
      "text/plain": [
       "2863"
      ]
     },
     "execution_count": 67,
     "metadata": {},
     "output_type": "execute_result"
    }
   ],
   "source": [
    "len(box_sizes_100['Path'].unique())"
   ]
  }
 ],
 "metadata": {
  "kernelspec": {
   "display_name": "Python 3",
   "language": "python",
   "name": "python3"
  },
  "language_info": {
   "codemirror_mode": {
    "name": "ipython",
    "version": 3
   },
   "file_extension": ".py",
   "mimetype": "text/x-python",
   "name": "python",
   "nbconvert_exporter": "python",
   "pygments_lexer": "ipython3",
   "version": "3.8.3"
  }
 },
 "nbformat": 4,
 "nbformat_minor": 4
}
